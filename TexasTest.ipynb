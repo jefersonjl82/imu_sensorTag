{
 "cells": [
  {
   "cell_type": "code",
   "execution_count": 1,
   "metadata": {},
   "outputs": [],
   "source": [
    "from __future__ import print_function\n",
    "\n",
    "import pygatt\n",
    "import numpy as np\n",
    "import struct\n",
    "import time as t\n",
    "\n",
    "import matplotlib.pyplot as plt\n",
    "%matplotlib notebook\n",
    "\n",
    "from ipywidgets import widgets, interact, IntSlider\n",
    "from IPython.display import display\n",
    "from IPython.display import clear_output"
   ]
  },
  {
   "cell_type": "code",
   "execution_count": 2,
   "metadata": {},
   "outputs": [],
   "source": [
    "#configuration\n",
    "\n",
    "HANDLE = {\n",
    "        'NAME':          0x0003,\n",
    "        'DATA':          0x003C,\n",
    "        'CONFIG':        0x003F,\n",
    "        'PERIOD':        0x0041,\n",
    "        'NOTIFICATION':  0x003D}\n",
    "\n",
    "#Gyroscope z axis enable\n",
    "zGyroEnable = 2**0\n",
    "#Gyroscope y axis enable\n",
    "yGyroEnable = 2**1\n",
    "#Gyroscope x axis enable\n",
    "xGyroEnable = 2**2\n",
    "\n",
    "#Accelerometer z axis enable\n",
    "zAccEnable = 2**3\n",
    "#Accelerometer y axis enable\n",
    "yAccEnable = 2**4\n",
    "#Accelerometer x axis enable\n",
    "xAccEnable = 2**5\n",
    "#Magnetometer enable (all axes)\n",
    "MagnEnable = 2**6\n",
    "#Wake-On-Motion Enable\n",
    "OnMotrionEnable = 2**7\n",
    "#Accelerometer range (0=2G, 1=4G, 2=8G, 3=16G) bits 8:9\n",
    "AccRange2G = 0\n",
    "AccRange4G = 2**1\n",
    "AccRange8G = 2**2\n",
    "AccRange16G = 2**1 | 2**2"
   ]
  },
  {
   "cell_type": "code",
   "execution_count": 3,
   "metadata": {},
   "outputs": [],
   "source": [
    "# adapter = pygatt.GATTToolBackend()"
   ]
  },
  {
   "cell_type": "code",
   "execution_count": 4,
   "metadata": {},
   "outputs": [],
   "source": [
    "# device = adapter.connect('54:6c:0e:79:5b:86', timeout=5)"
   ]
  },
  {
   "cell_type": "code",
   "execution_count": 5,
   "metadata": {},
   "outputs": [],
   "source": [
    "class myBLE:\n",
    "    def __init__(self, MAC):\n",
    "        self.MAC = MAC\n",
    "        # define PC bluetooth adapter\n",
    "        self.adapter = pygatt.GATTToolBackend()\n",
    "    \n",
    "    def connect(self, timeout = 5):\n",
    "        self.adapter.start()\n",
    "        self.myDevice = self.adapter.connect(self.MAC, timeout=timeout)\n",
    "        \n",
    "    def readHandle(self, handle, HEXA = False):\n",
    "        # return data array\n",
    "        data = self.myDevice.char_read_handle(hex(handle))\n",
    "        size = len(data)\n",
    "        if not HEXA:\n",
    "            return struct.unpack(str(size)+'B', data)\n",
    "        else:\n",
    "            return data\n",
    "        \n",
    "    def writeHandle(self, handle, value):\n",
    "        self.myDevice.char_write_handle(handle, bytearray(value))\n",
    "        "
   ]
  },
  {
   "cell_type": "code",
   "execution_count": 6,
   "metadata": {},
   "outputs": [],
   "source": [
    "#connect BLE\n",
    "texasBLE = myBLE('54:6c:0e:79:5b:86')"
   ]
  },
  {
   "cell_type": "code",
   "execution_count": 7,
   "metadata": {},
   "outputs": [],
   "source": [
    "texasBLE.connect()"
   ]
  },
  {
   "cell_type": "code",
   "execution_count": 8,
   "metadata": {},
   "outputs": [],
   "source": [
    "#Notification enable\n",
    "texasBLE.writeHandle(HANDLE['NOTIFICATION'],[0x01,0x00])"
   ]
  },
  {
   "cell_type": "code",
   "execution_count": 9,
   "metadata": {},
   "outputs": [],
   "source": [
    "texasBLE.writeHandle(HANDLE['PERIOD'],[0xFF])"
   ]
  },
  {
   "cell_type": "code",
   "execution_count": 10,
   "metadata": {},
   "outputs": [],
   "source": [
    "#Config\n",
    "texasBLE.writeHandle(HANDLE['CONFIG'],\n",
    "    [( OnMotrionEnable | xAccEnable),\n",
    "     0x00 ])"
   ]
  },
  {
   "cell_type": "code",
   "execution_count": 11,
   "metadata": {},
   "outputs": [
    {
     "data": {
      "application/vnd.jupyter.widget-view+json": {
       "model_id": "618cf545902743a4bda8c2b3c9026aa7",
       "version_major": 2,
       "version_minor": 0
      },
      "text/plain": [
       "interactive(children=(Dropdown(description='hnd', options={'NAME': 3, 'DATA': 60, 'CONFIG': 63, 'PERIOD': 65, …"
      ]
     },
     "metadata": {},
     "output_type": "display_data"
    }
   ],
   "source": [
    "def getHandle(hnd):\n",
    "    data = texasBLE.readHandle(hnd)\n",
    "    print(\"Data {}\".format(data))\n",
    "    print(bytearray(data))\n",
    "\n",
    "interact(getHandle, hnd=HANDLE);"
   ]
  },
  {
   "cell_type": "code",
   "execution_count": 38,
   "metadata": {},
   "outputs": [
    {
     "name": "stdout",
     "output_type": "stream",
     "text": [
      "Count 99, \n",
      "value bytearray(b'\\x00\\x00\\x00\\x00\\x00\\x00A\\x05\\x00\\x00\\x00\\x00\\x00\\x00\\x00\\x00\\x00\\x00')\n",
      "Final time 14.13 s\n"
     ]
    }
   ],
   "source": [
    "#print data\n",
    "t0 = t.time()\n",
    "for i in range(0,100):\n",
    "    clear_output(wait=True)\n",
    "    print(\"Count {}, \\nvalue {}\".format(i,texasBLE.readHandle(HANDLE['DATA'], HEXA = True)))\n",
    "print(\"Final time %0.2f s\"% (t.time()-t0))\n"
   ]
  },
  {
   "cell_type": "code",
   "execution_count": 49,
   "metadata": {},
   "outputs": [],
   "source": [
    "texasBLE.adapter.stop()"
   ]
  },
  {
   "cell_type": "code",
   "execution_count": null,
   "metadata": {},
   "outputs": [],
   "source": [
    "\"Dynamic plotting in matplotlib. Copy and paste into a Jupyter notebook.\"\n",
    "# written October 2016 by Sam Greydanus\n",
    "\n",
    "def plt_dynamic(x, y, ax, colors=['b']):\n",
    "    for color in colors:\n",
    "        ax.plot(x, y, color)\n",
    "    fig.canvas.draw()\n",
    "    \n",
    "fig,ax = plt.subplots(1,1)\n",
    "ax.set_xlabel('X') ; ax.set_ylabel('Y')\n",
    "ax.set_xlim(0,100) ; ax.set_ylim(-500,500)\n",
    "xs, ys = [], []\n",
    "\n",
    "# this is any loop for which you want to plot dynamic updates.\n",
    "# in my case, I'm plotting loss functions for neural nets\n",
    "for x in range(100):\n",
    "    value = texasBLE.readHandle(HANDLE['DATA'])\n",
    "    y = value[4]\n",
    "    xs.append(x)\n",
    "    ys.append(y)\n",
    "    if x % 5 == 0:\n",
    "        plt_dynamic(xs, ys, ax)\n",
    "plt_dynamic(xs, ys, ax)"
   ]
  },
  {
   "cell_type": "code",
   "execution_count": null,
   "metadata": {},
   "outputs": [],
   "source": []
  }
 ],
 "metadata": {
  "kernelspec": {
   "display_name": "Python 3",
   "language": "python",
   "name": "python3"
  },
  "language_info": {
   "codemirror_mode": {
    "name": "ipython",
    "version": 3
   },
   "file_extension": ".py",
   "mimetype": "text/x-python",
   "name": "python",
   "nbconvert_exporter": "python",
   "pygments_lexer": "ipython3",
   "version": "3.6.5"
  }
 },
 "nbformat": 4,
 "nbformat_minor": 2
}
